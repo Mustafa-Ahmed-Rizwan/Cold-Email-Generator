{
 "cells": [
  {
   "cell_type": "code",
   "execution_count": 1,
   "id": "300c6b6c",
   "metadata": {},
   "outputs": [
    {
     "data": {
      "text/plain": [
       "\"\\n1. Search for an open opportunity at your possible potential clients\\n2. Search for relevant information from the opening that might act as a good starting point for your business with this company\\n3. Go through all of your company's projects and find relevant projects\\n4. Get important to share information about these projects\\n5. Write a compelling cold email about how your firm can be of great service to your potential client\\n6. Repeat for ALL potential clients\\n\""
      ]
     },
     "execution_count": 1,
     "metadata": {},
     "output_type": "execute_result"
    }
   ],
   "source": [
    "\"\"\"\n",
    "1. Search for an open opportunity at your possible potential clients\n",
    "2. Search for relevant information from the opening that might act as a good starting point for your business with this company\n",
    "3. Go through all of your company's projects and find relevant projects\n",
    "4. Get important to share information about these projects\n",
    "5. Write a compelling cold email about how your firm can be of great service to your potential client\n",
    "6. Repeat for ALL potential clients\n",
    "\"\"\""
   ]
  },
  {
   "cell_type": "code",
   "execution_count": 2,
   "id": "096de3f6",
   "metadata": {},
   "outputs": [],
   "source": [
    "# Web Scraping\n",
    "\n",
    "# Relevant information\n",
    "\n",
    "# Chromadb query\n",
    "\n",
    "# Email Generation"
   ]
  },
  {
   "cell_type": "code",
   "execution_count": 12,
   "id": "1a0ad430",
   "metadata": {},
   "outputs": [
    {
     "name": "stdout",
     "output_type": "stream",
     "text": [
      "                        Software Engineer Jobs | Dice.com       Software Engineer JobsRefine Results1 - 20 of 47,383 JobsSenior Embedded Software EngineerJob Title - Senior Embedded Software EngineerSaveISCO International LLCCompany Name - ISCO International LLC•Schaumburg, Illinois, USAFull-timePosition Description  ISCO is looking for a Senior Embedded Software Engineer to help architect, develop and implement ISCO's new telecommunications products. This role has a wide scope that may include implementation of DSP algorithms, development of drivers and APIs, design of O&M functions, and even support of automated test development efforts. This role requires a Senior level Software Engineer with a broad range of skills, innovative spirit and desire to work in a fast-paced, entrepreneuriEasy ApplyPosted 2 hours ago Senior Software EngineerJob Title - Senior Software EngineerSaveFirst-Citizens Bank & Trust CompanyCompany Name - First-Citizens Bank & Trust Company•Phoenix, Arizona, USAFull-timeOverview  We are looking for a hands-on Senior Software Engineer who provides technology solutions and integration services in following areas: Core banking, Payments & Money movement. The ideal candidate should have the necessary skills and experience to provide technical guidance, estimation of efforts, understanding and deciding upon the optimal technology solution to achieve the desired business needs, day to day application support, should be able to navigate differing levels of gray/unknowPosted 14 hours ago | Updated 2 hours agoStaff Software Engineer, Vehicle SoftwareJob Title - Staff Software Engineer, Vehicle SoftwareSaveGeneral MotorsCompany Name - General Motors•Mountain View, California, USAFull-timeJob Description Hybrid: This role is categorized as hybrid. This means the successful candidate is expected to report to Mountain View, California three times per week, at minimum [or other frequency dictated by the business if more than 3 days ]. The Role The Compute platform team is a dynamic and fast paced team that designs, develops, and maintains the foundational embedded software platform for SDV solutions, including drivers, operating system, BSP and software stack. We are developing a woPosted 3 days ago | Updated 2 hours agoSenior Software Engineer (AWS)Job Title - Senior Software Engineer (AWS)SaveTravelersCompany Name - Travelers•Atlanta, Georgia, USAFull-timeWho Are We? Taking care of our customers, our communities and each other. That's the Travelers Promise. By honoring this commitment, we have maintained our reputation as one of the best property casualty insurers in the industry for over 160 years. Join us to discover a culture that is rooted in innovation and thrives on collaboration. Imagine loving what you do and where you do it.  Compensation Overview The annual base salary range provided for this position is a nationwide market range and rePosted 14 hours ago | Updated 2 hours agoLead Software Engineer - Transportation/DistributionJob Title - Lead Software Engineer - Transportation/DistributionSavePublixCompany Name - Publix•Lakeland, Florida, USAFull-timePublix Super Markets, Inc. is the largest privately-owned food retailer in the nation with more than 1,200 stores and more than 200,000 associates throughout the Southeast. We are associate-owned, proud of our family atmosphere, and consistently named as one of the best companies to work for in America. We are largely debt-free and renowned for our financial performance as well as our premier customer service. Publix?s Information Services (I/S) department is located in Lakeland, Florida and AlpPosted 18 hours ago | Updated 2 hours agoSenior Software Engineer, AV Core ServicesJob Title - Senior Software Engineer, AV Core ServicesSaveGeneral MotorsCompany Name - General Motors•Mountain View, California, USAFull-timeJob Description  Hybrid: This role is categorized as hybrid. The successful candidate is expected to report three times per week, at minimum, to at least one of our Bay Area offices (San Francisco, Mountain View, and Sunnyvale). Role: Our team, part of GM's ADAS (Advanced Driver-Assistance Systems) organization, collaborates closely with the Operations Team. Our primary function is to develop and implement products that help them efficiently manage our extensive data collection vehicle fleet. ThPosted 14 hours ago | Updated 2 hours agoSoftware Engineer 3Job Title - Software Engineer 3SaveIntelliswift Software IncCompany Name - Intelliswift Software Inc•Plano, Texas, USAContractJob Title:  Software Engineer 3 Duration: 6 Months Location: Plano, TX, USA Pay Range: $65 per hour Intelliswift Software Inc. conceptualizes, builds, and supports the world's most amazing technology products and solutions. Our team of rich experts from diverse backgrounds contributes to making Intelliswift one of the most reliable partners in IT and Talent solutions. We specialize in delivering world-class Digital Product Engineering, Data Management and Analytics, and Staffing Solutions servicEasy ApplyPosted 20 hours ago JavaScript Software EngineerJob Title - JavaScript Software EngineerSaveExamineticsCompany Name - Examinetics•Overland Park, Kansas, USAFull-timeExaminetics is hiring a JavaScript Software Engineer to join our expanding team! This full time role is based in office M-F at our Overland Park location. For those who do not live in the KC metro area, you must be either willing to relocate or complete on site training at our office. This role is designed for a highly skilled, full stack, JavaScript Engineer who will serve as the sole specialist for our React front-end and Node.js back-end applications. You will be responsible for leading the fPosted 14 hours ago | Updated 2 hours agoSoftware Engineer- Airtable ExperienceJob Title - Software Engineer- Airtable ExperienceSaveAmerican IT SystemsCompany Name - American IT Systems•Bentonville, Arkansas, USAThird Party, ContractSoftware Engineer- Airtable Experience Bentonville AR (5 days onsite)  Long Term Contract Data processing workflowsAirtable scriptsJavaScriptData QualityAirtable scripts using JavaScriptdatabase concepts and data Managementlooking for a seasoned technologist with manager with Airtable experience with specialized expertise in streamlining, upgrading and managing airtable based products.Skills: Airtable (3-5+ years), including base design, automation, and integration capabilities.Strong proficiencEasy ApplyPosted 1 day ago Staff Software Engineer, PerformanceJob Title - Staff Software Engineer, PerformanceSaveAirbnbCompany Name - Airbnb•RemoteFull-timeAirbnb was born in 2007 when two hosts welcomed three guests to their San Francisco home, and has since grown to over 5 million hosts who have welcomed over 2 billion guest arrivals in almost every country across the globe. Every day, hosts offer unique stays and experiences that make it possible for guests to connect with communities in a more authentic way.  The Community You Will Join: The Infrastructure Performance team's charter is to optimize performance across the fleet and throughout thePosted 1 day ago | Updated 5 hours agoGround Senior Software Engineer - Lunar PermanenceJob Title - Ground Senior Software Engineer - Lunar PermanenceSaveBlue Origin, LLCCompany Name - Blue Origin, LLC•Denver, Colorado, USAFull-timeApplication close date: Applications will be accepted on an ongoing basis until the requisition is closed.  At Blue Origin, we envision millions of people living and working in space for the benefit of Earth. We're working to develop reusable, safe, and low-cost space vehicles and systems within a culture of safety, collaboration, and inclusion. Join our team of problem solvers as we add new chapters to the history of spaceflight! This role is part of the Lunar Permanence business unit, which dePosted 3 days ago | Updated 2 hours agoStaff Server Software EngineerJob Title - Staff Server Software EngineerSaveFiservCompany Name - Fiserv•Sunnyvale, California, USAFull-timeCalling all innovators - find your future at Fiserv.  We're Fiserv, a global leader in Fintech and payments, and we move money and information in a way that moves the world. We connect financial institutions, corporations, merchants and consumers to one another millions of times a day - quickly, reliably, and securely. Any time you swipe your credit card, pay through a mobile app, or withdraw money from the bank, we're involved. If you want to make an impact on a global scale, come make a differPosted 5 days ago | Updated 2 hours agoSoftware Engineer IIJob Title - Software Engineer IISaveBlue Origin, LLCCompany Name - Blue Origin, LLC•Seattle, Washington, USAFull-timeApplication close date: Applications will be accepted on an ongoing basis until the requisition is closed.  At Blue Origin, we envision millions of people living and working in space for the benefit of Earth. We're working to develop reusable, safe, and low-cost space vehicles and systems within a culture of safety, collaboration, and inclusion. Join our team of problem solvers as we add new chapters to the history of spaceflight! This role is part of the Blue Origin Engines business unit, wherePosted 3 days ago | Updated 2 hours agoSoftware Engineer IIIJob Title - Software Engineer IIISaveBlue Origin, LLCCompany Name - Blue Origin, LLC•Seattle, Washington, USAFull-timeApplication close date: Applications will be accepted on an ongoing basis until the requisition is closed.  At Blue Origin, we envision millions of people living and working in space for the benefit of Earth. We're working to develop reusable, safe, and low-cost space vehicles and systems within a culture of safety, collaboration, and inclusion. Join our team of problem solvers as we add new chapters to the history of spaceflight! This role is part of the Blue Origin Engines business unit, wherePosted 3 days ago | Updated 2 hours agoSenior Software EngineerJob Title - Senior Software EngineerSaveGeneral MotorsCompany Name - General Motors•Warren, Michigan, USAFull-timeJob Description Contributes to the development of embedded software and tools for the GM Infotainment components. Works on the entire life-cycle of the assigned domain, including requirements, system design, development, deployment, and maintenance of the Infotainment development tools. Delivers development tools by coding best in class embedded software using Embedded C with Keil IDE, C/C++, Java and QNX/Linux/Android expertise. Works on and solves a variety of embedded hardware. Develops CAN/LPosted 14 hours ago | Updated 2 hours agoSenior Software EngineerJob Title - Senior Software EngineerSaveGeneral MotorsCompany Name - General Motors•RemoteFull-timeJob Description  Design and Development of microservices which interact with various Azure resources. Document requirements for design solutions and link them to test cases that can demonstrate software functionality. Diagnose, Debug and resolve software issues. Participate in the integration workshop and work with multi-functional team to build, test and release the robust microservices. Coordinate and collaborate with colleagues and departments outside engineering, such as IT, Systems & SafetyPosted 2 hours ago Software EngineerJob Title - Software EngineerSaveMeta Platforms, Inc. (f/k/a Facebook, Inc.) Company Name - Meta Platforms, Inc. (f/k/a Facebook, Inc.) •Bellevue, Washington, USAFull-timeMeta Platforms, Inc. (f/k/a Facebook, Inc.) has the following positions in Bellevue, WA Software Engineer: Develop, design, create, modify, and/or test software applications or systems for various mobile software services. (ref. code REQ-2505-150528: $181,300/year to $240,240/year) Individual pay is determined by skills, qualifications, experience, and location. Compensation details listed in this posting reflect the base salary only, and do not include bonus or equity or sales incentives, if apPosted 22 hours ago | Updated 21 hours agoSoftware EngineerJob Title - Software EngineerSaveMeta Platforms, Inc. (f/k/a Facebook, Inc.)Company Name - Meta Platforms, Inc. (f/k/a Facebook, Inc.)•Menlo Park, California, USAFull-timeMeta Platforms, Inc. (f/k/a Facebook, Inc.) has the following positions in Menlo Park, CA Software Engineer: Research, design, develop, build and test operating systems-level software, compilers, and network distribution software for large distributed components that run Facebook. (ref. code REQ-2503-147892: $184,364/year - $200,200/year). Individual pay is determined by skills, qualifications, experience, and location. Compensation details listed in this posting reflect the base salary only, anPosted 21 hours ago Software EngineerJob Title - Software EngineerSaveMeta Platforms, Inc. (f/k/a Facebook, Inc.)Company Name - Meta Platforms, Inc. (f/k/a Facebook, Inc.)•Redmond, Washington, USAFull-timeMeta Platforms, Inc. (f/k/a Facebook, Inc.) has the following positions in Redmond, WA Software Engineer : Research, design, develop, and test operating systems-level software, compilers, and network distribution software for massive social data and prediction problems. (ref. code REQ-2506-151954: $177,387/year - $200,200/year). Individual pay is determined by skills, qualifications, experience, and location. Compensation details listed in this posting reflect the base salary only, and do not inPosted 21 hours ago Software EngineerJob Title - Software EngineerSaveMeta Platforms, Inc. (f/k/a Facebook, Inc.) Company Name - Meta Platforms, Inc. (f/k/a Facebook, Inc.) •Bellevue, Washington, USAFull-timeMeta Platforms, Inc. (f/k/a Facebook, Inc.) has the following positions in Bellevue, WA  Software Engineer: Research, design, develop, build and test operating systems-level software, compilers, and network distribution software for large distributed components that run applications. (ref. code REQ-2505-150322: $179,795/year - $200,200/year).  Individual pay is determined by skills, qualifications, experience, and location. Compensation details listed in this posting reflect the base salary onlyPosted 22 hours ago | Updated 22 hours ago1 of 500   \n"
     ]
    }
   ],
   "source": [
    "# Web Scraping\n",
    "from langchain_community.document_loaders import WebBaseLoader\n",
    "\n",
    "loader = WebBaseLoader(\"https://www.dice.com/jobs/q-Software+Engineer-jobs\")\n",
    "page_data=loader.load().pop().page_content\n",
    "print(page_data)"
   ]
  },
  {
   "cell_type": "code",
   "execution_count": 7,
   "id": "4bf4ce97",
   "metadata": {},
   "outputs": [],
   "source": [
    "from langchain_groq import ChatGroq\n",
    "llm = ChatGroq(model=\"llama-3.3-70b-versatile\", temperature=0, max_tokens=None, timeout=None, max_retries=2)\n"
   ]
  },
  {
   "cell_type": "code",
   "execution_count": 14,
   "id": "784f3121",
   "metadata": {},
   "outputs": [
    {
     "name": "stdout",
     "output_type": "stream",
     "text": [
      "<class 'str'>\n",
      "```json\n",
      "[\n",
      "  {\n",
      "    \"role\": \"Senior Embedded Software Engineer\",\n",
      "    \"experience\": \"Senior level\",\n",
      "    \"skills\": \"DSP algorithms, drivers, APIs, O&M functions, automated test development\",\n",
      "    \"description\": \"Help architect, develop and implement ISCO's new telecommunications products\"\n",
      "  },\n",
      "  {\n",
      "    \"role\": \"Senior Software Engineer\",\n",
      "    \"experience\": \"Senior level\",\n",
      "    \"skills\": \"Core banking, Payments & Money movement, technical guidance, estimation of efforts\",\n",
      "    \"description\": \"Provide technology solutions and integration services\"\n",
      "  },\n",
      "  {\n",
      "    \"role\": \"Staff Software Engineer, Vehicle Software\",\n",
      "    \"experience\": \"Staff level\",\n",
      "    \"skills\": \"Embedded software, drivers, operating system, BSP, software stack\",\n",
      "    \"description\": \"Design, develop, and maintain the foundational embedded software platform for SDV solutions\"\n",
      "  },\n",
      "  {\n",
      "    \"role\": \"Senior Software Engineer (AWS)\",\n",
      "    \"experience\": \"Senior level\",\n",
      "    \"skills\": \"AWS, innovation, collaboration\",\n",
      "    \"description\": \"Join a culture that is rooted in innovation and thrives on collaboration\"\n",
      "  },\n",
      "  {\n",
      "    \"role\": \"Lead Software Engineer - Transportation/Distribution\",\n",
      "    \"experience\": \"Lead level\",\n",
      "    \"skills\": \"Streamlining, upgrading, and managing airtable based products\",\n",
      "    \"description\": \"Work in a family atmosphere and consistently named as one of the best companies to work for in America\"\n",
      "  },\n",
      "  {\n",
      "    \"role\": \"Senior Software Engineer, AV Core Services\",\n",
      "    \"experience\": \"Senior level\",\n",
      "    \"skills\": \"ADAS, Operations Team, data collection vehicle fleet\",\n",
      "    \"description\": \"Develop and implement products that help efficiently manage the extensive data collection vehicle fleet\"\n",
      "  },\n",
      "  {\n",
      "    \"role\": \"Software Engineer 3\",\n",
      "    \"experience\": \"6 Months contract\",\n",
      "    \"skills\": \"Digital Product Engineering, Data Management and Analytics, Staffing Solutions\",\n",
      "    \"description\": \"Conceptualize, build, and support the world's most amazing technology products and solutions\"\n",
      "  },\n",
      "  {\n",
      "    \"role\": \"JavaScript Software Engineer\",\n",
      "    \"experience\": \"Full stack\",\n",
      "    \"skills\": \"React, Node.js, full stack\",\n",
      "    \"description\": \"Lead the front-end and back-end applications and serve as the sole specialist\"\n",
      "  },\n",
      "  {\n",
      "    \"role\": \"Software Engineer- Airtable Experience\",\n",
      "    \"experience\": \"Seasoned technologist\",\n",
      "    \"skills\": \"Airtable, JavaScript, data quality, database concepts\",\n",
      "    \"description\": \"Streamline, upgrade, and manage airtable based products\"\n",
      "  },\n",
      "  {\n",
      "    \"role\": \"Staff Software Engineer, Performance\",\n",
      "    \"experience\": \"Staff level\",\n",
      "    \"skills\": \"Infrastructure Performance, optimize performance\",\n",
      "    \"description\": \"Optimize performance across the fleet and throughout the company\"\n",
      "  },\n",
      "  {\n",
      "    \"role\": \"Ground Senior Software Engineer - Lunar Permanence\",\n",
      "    \"experience\": \"Senior level\",\n",
      "    \"skills\": \"Reusable, safe, and low-cost space vehicles and systems\",\n",
      "    \"description\": \"Add new chapters to the history of spaceflight and develop reusable, safe, and low-cost space vehicles and systems\"\n",
      "  },\n",
      "  {\n",
      "    \"role\": \"Staff Server Software Engineer\",\n",
      "    \"experience\": \"Staff level\",\n",
      "    \"skills\": \"Fintech, payments, financial institutions, corporations, merchants, consumers\",\n",
      "    \"description\": \"Connect financial institutions, corporations, merchants and consumers to one another millions of times a day\"\n",
      "  },\n",
      "  {\n",
      "    \"role\": \"Software Engineer II\",\n",
      "    \"experience\": \"Full-time\",\n",
      "    \"skills\": \"Reusable, safe, and low-cost space vehicles and systems\",\n",
      "    \"description\": \"Develop reusable, safe, and low-cost space vehicles and systems within a culture of safety, collaboration, and inclusion\"\n",
      "  },\n",
      "  {\n",
      "    \"role\": \"Software Engineer III\",\n",
      "    \"experience\": \"Full-time\",\n",
      "    \"skills\": \"Reusable, safe, and low-cost space vehicles and systems\",\n",
      "    \"description\": \"Develop reusable, safe, and low-cost space vehicles and systems within a culture of safety, collaboration, and inclusion\"\n",
      "  },\n",
      "  {\n",
      "    \"role\": \"Senior Software Engineer\",\n",
      "    \"experience\": \"Senior level\",\n",
      "    \"skills\": \"Embedded C, Keil IDE, C/C++, Java, QNX/Linux/Android\",\n",
      "    \"description\": \"Contribute to the development of embedded software and tools for the GM Infotainment components\"\n",
      "  },\n",
      "  {\n",
      "    \"role\": \"Senior Software Engineer\",\n",
      "    \"experience\": \"Senior level\",\n",
      "    \"skills\": \"Microservices, Azure resources, design solutions, test cases, software functionality\",\n",
      "    \"description\": \"Design and development of microservices which interact with various Azure resources\"\n",
      "  },\n",
      "  {\n",
      "    \"role\": \"Software Engineer\",\n",
      "    \"experience\": \"Full-time\",\n",
      "    \"skills\": \"Mobile software services, software applications, systems\",\n",
      "    \"description\": \"Develop, design, create, modify, and/or test software applications or systems for various mobile software services\"\n",
      "  },\n",
      "  {\n",
      "    \"role\": \"Software Engineer\",\n",
      "    \"experience\": \"Full-time\",\n",
      "    \"skills\": \"Operating systems-level software, compilers, network distribution software\",\n",
      "    \"description\": \"Research, design, develop, build and test operating systems-level software, compilers, and network distribution software\"\n",
      "  },\n",
      "  {\n",
      "    \"role\": \"Software Engineer\",\n",
      "    \"experience\": \"Full-time\",\n",
      "    \"skills\": \"Operating systems-level software, compilers, network distribution software\",\n",
      "    \"description\": \"Research, design, develop, and test operating systems-level software, compilers, and network distribution software for massive social data and prediction problems\"\n",
      "  },\n",
      "  {\n",
      "    \"role\": \"Software Engineer\",\n",
      "    \"experience\": \"Full-time\",\n",
      "    \"skills\": \"Operating systems-level software, compilers, network distribution software, large distributed components\",\n",
      "    \"description\": \"Research, design, develop, build and test operating systems-level software, compilers, and network distribution software for large distributed components that run applications\"\n",
      "  }\n",
      "]\n",
      "```\n"
     ]
    }
   ],
   "source": [
    "from langchain_core.prompts import PromptTemplate\n",
    "\n",
    "prompt_extract = PromptTemplate.from_template(\n",
    "    \"\"\"\n",
    "    I will give you scraped text from the job posting. \n",
    "    Your job is to extract the job details & requirements in a JSON format containing the following keys: 'role', 'experience', 'skills', and 'description'. \n",
    "    Only return valid JSON. No preamble, please.\n",
    "    Here is the scraped text: {page_data}\n",
    "    \"\"\"\n",
    ")\n",
    "\n",
    "chain_extract = prompt_extract | llm \n",
    "response = chain_extract.invoke(input={'page_data':page_data})\n",
    "print(type(response.content))\n",
    "print(response.content)"
   ]
  },
  {
   "cell_type": "code",
   "execution_count": 17,
   "id": "e3500800",
   "metadata": {},
   "outputs": [
    {
     "name": "stdout",
     "output_type": "stream",
     "text": [
      "<class 'list'>\n"
     ]
    }
   ],
   "source": [
    "from langchain_core.output_parsers import JsonOutputParser\n",
    "\n",
    "json_parser = JsonOutputParser()\n",
    "json_response = json_parser.parse(response.content)\n",
    "print(type(json_response))"
   ]
  },
  {
   "cell_type": "code",
   "execution_count": 19,
   "id": "d73f429f",
   "metadata": {},
   "outputs": [
    {
     "name": "stdout",
     "output_type": "stream",
     "text": [
      "('Python', ' SQL', ' Pandas')  https://github.com/user/project1\n",
      "('SQL', ' Python', ' Airflow')  https://github.com/user/project2\n",
      "('PySpark', ' Spark SQL', ' Delta Lake')  https://github.com/user/project3\n",
      "('Machine Learning', ' Deep Learning', ' TensorFlow')  https://github.com/user/project4\n",
      "('Data Engineering', ' ETL', ' ELT')  https://github.com/user/project5\n",
      "('Cloud Platforms (AWS', ' GCP', ' Azure)')  https://github.com/user/project6\n",
      "('Data Warehousing', ' Data Modeling', ' DBT')  https://github.com/user/project7\n",
      "('Data Visualization', ' Power BI', ' Tableau')  https://github.com/user/project8\n",
      "('MLOps', ' MLflow', ' Kubeflow')  https://github.com/user/project9\n",
      "('Natural Language Processing (NLP)', ' NLTK', ' spaCy')  https://github.com/user/project10\n",
      "('Computer Vision', ' OpenCV', ' TensorFlow')  https://github.com/user/project11\n",
      "('Time Series Analysis', ' Forecasting', ' Prophet')  https://github.com/user/project12\n",
      "('Data Cleaning', ' Data Wrangling', ' Pandas')  https://github.com/user/project13\n",
      "('Feature Engineering', ' Scikit-learn')  https://github.com/user/project14\n",
      "('Statistical Analysis', ' Hypothesis Testing')  https://github.com/user/project15\n",
      "('Data Ethics', ' Privacy', ' GDPR')  https://github.com/user/project16\n",
      "('Big Data', ' Hadoop', ' Spark')  https://github.com/user/project17\n",
      "('Data Governance', ' Data Quality', ' Metadata Management')  https://github.com/user/project18\n",
      "('Data Security', ' Encryption', ' Tokenization')  https://github.com/user/project19\n",
      "('Cloud Data Engineering', ' AWS Glue', ' Databricks')  https://github.com/user/project20\n",
      "('DSP algorithms', ' Embedded C', ' APIs')  https://github.com/user/embedded-telecom  \n",
      "('Core banking', ' Java', ' Spring Boot')  https://github.com/user/banking-solutions  \n",
      "('Embedded software', ' C++', ' Linux')  https://github.com/user/vehicle-platform  \n",
      "('AWS', ' Python', ' Lambda')  https://github.com/user/aws-innovator  \n",
      "('Airtable', ' JavaScript', ' Node.js')  https://github.com/user/airtable-streamline  \n",
      "('ADAS', ' Python', ' ROS')  https://github.com/user/av-core-services  \n",
      "('Digital Product Engineering', ' Python', ' SQL')  https://github.com/user/tech-solutions  \n",
      "('React', ' Node.js', ' Express')  https://github.com/user/fullstack-js  \n",
      "('Airtable', ' JavaScript', ' PostgreSQL')  https://github.com/user/airtable-manager  \n",
      "('Performance optimization', ' Go', ' Kubernetes')  https://github.com/user/infra-performance  \n",
      "('Space systems', ' C++', ' RTOS')  https://github.com/user/lunar-software  \n",
      "('Fintech', ' Java', ' Kafka')  https://github.com/user/payments-platform  \n",
      "('Space vehicles', ' Python', ' ROS')  https://github.com/user/space-safety  \n",
      "('Space systems', ' C++', ' Embedded Linux')  https://github.com/user/reusable-space  \n",
      "('Embedded C', ' QNX', ' Java')  https://github.com/user/infotainment-tools  \n",
      "('Microservices', ' Azure', ' .NET Core')  https://github.com/user/azure-microservices  \n",
      "('Mobile software', ' Swift', ' Kotlin')  https://github.com/user/mobile-services  \n",
      "('Operating systems', ' C', ' Linux Kernel')  https://github.com/user/os-software  \n",
      "('Compilers', ' C++', ' LLVM')  https://github.com/user/social-data-compiler  \n",
      "('Distributed systems', ' Go', ' Docker')  https://github.com/user/large-scale-apps\n"
     ]
    }
   ],
   "source": [
    "import csv\n",
    "\n",
    "def read_csv_file(file_path):\n",
    "    data = []\n",
    "    with open(file_path, 'r') as file:\n",
    "        csv_reader = csv.reader(file)\n",
    "        # Skip the header row\n",
    "        next(csv_reader)\n",
    "        for row in csv_reader:\n",
    "            # Separate technical skills (list) and project link (string)\n",
    "            skills = tuple(row[:-1])  # Exclude the last element (project link)\n",
    "            project_link = row[-1]  # Get the last element (project link)\n",
    "            data.append((skills, project_link))  # Create a tuple with skills and link\n",
    "    return data\n",
    "\n",
    "# Example usage:\n",
    "file_path = 'sample_portfolio.csv'  # Replace with your actual file path\n",
    "data = read_csv_file(file_path)\n",
    "\n",
    "for skills, project_link in data:\n",
    "    print(skills, project_link)\n",
    "    #print(project_link)"
   ]
  },
  {
   "cell_type": "code",
   "execution_count": 20,
   "id": "e875a298",
   "metadata": {},
   "outputs": [],
   "source": [
    "# Insert data into Vector Database\n",
    "\n",
    "import uuid\n",
    "import chromadb\n",
    "\n",
    "client = chromadb.PersistentClient('vectorstore')\n",
    "collection = client.get_or_create_collection(name='portfolio_links')\n",
    "\n",
    "if not collection.count():\n",
    "    for skills, project_url in data:\n",
    "        collection.add(\n",
    "            documents=str(skills),\n",
    "            metadatas={'portfolio_url':project_url},\n",
    "            ids=[str(uuid.uuid4())]\n",
    "        )"
   ]
  },
  {
   "cell_type": "code",
   "execution_count": null,
   "id": "9f588600",
   "metadata": {},
   "outputs": [],
   "source": [
    "\n",
    "# all_skills_str = ', '.join([job['skills'] for job in json_response])\n",
    "# print(all_skills_str)\n",
    "# since there are many jobs in web scraping so we are doing testing of only one\n",
    "first_job_skills = json_response[0]['skills']"
   ]
  },
  {
   "cell_type": "code",
   "execution_count": 34,
   "id": "e35ac213",
   "metadata": {},
   "outputs": [
    {
     "name": "stdout",
     "output_type": "stream",
     "text": [
      "{'ids': [['38bae0a5-2c1a-4cb8-8ab1-bee3e06bba3d', 'da4a5b16-6af4-468e-afd7-acadc1ea95df']], 'embeddings': None, 'documents': [[\"('DSP algorithms', ' Embedded C', ' APIs')\", \"('Compilers', ' C++', ' LLVM')\"]], 'uris': None, 'included': ['metadatas', 'documents', 'distances'], 'data': None, 'metadatas': [[{'portfolio_url': ' https://github.com/user/embedded-telecom  '}, {'portfolio_url': ' https://github.com/user/social-data-compiler  '}]], 'distances': [[0.5638918876647949, 1.1970778703689575]]}\n"
     ]
    }
   ],
   "source": [
    "portfolio_urls=collection.query(query_texts=first_job_skills,\n",
    "                                n_results=2)\n",
    "print(portfolio_urls)"
   ]
  },
  {
   "cell_type": "code",
   "execution_count": 35,
   "id": "191519ae",
   "metadata": {},
   "outputs": [
    {
     "name": "stdout",
     "output_type": "stream",
     "text": [
      "Help architect, develop and implement ISCO's new telecommunications products\n"
     ]
    }
   ],
   "source": [
    "first_job_description = json_response[0]['description']\n",
    "print(first_job_description)"
   ]
  },
  {
   "cell_type": "code",
   "execution_count": 36,
   "id": "1d094f0d",
   "metadata": {},
   "outputs": [
    {
     "name": "stdout",
     "output_type": "stream",
     "text": [
      "Subject: Expert Solutions for ISCO's Telecommunications Products Development\n",
      "\n",
      "Dear Hiring Manager,\n",
      "\n",
      "I came across the job posting for architecting, developing, and implementing ISCO's new telecommunications products, and I was impressed by the scope and ambition of the project. As a Business Development Officer at X Consulting firm, I believe our team can bring significant value to this initiative.\n",
      "\n",
      "Our company, X AI, specializes in providing efficient, tailored solutions in the domain of Data Science and AI, with a strong focus on keeping costs down. We have a proven track record of delivering high-quality results in the telecommunications sector, and I'd like to highlight a few examples of our relevant work:\n",
      "\n",
      "* Our expertise in DSP algorithms, Embedded C, and APIs can be seen in our portfolio project: https://github.com/user/embedded-telecom\n",
      "* Additionally, our experience with Compilers, C++, and LLVM is showcased in another project: https://github.com/user/social-data-compiler\n",
      "\n",
      "These projects demonstrate our ability to design and develop complex telecommunications systems, and I believe our skills align perfectly with the requirements of your project. Our team is well-equipped to help ISCO architect, develop, and implement innovative telecommunications products that meet the highest standards of quality and efficiency.\n",
      "\n",
      "I'd love to schedule a call to discuss how our expertise can support your project goals and explore the possibility of working together. Please let me know if you're available for a brief conversation this week or next.\n",
      "\n",
      "Looking forward to hearing from you and exploring how X AI can contribute to ISCO's success.\n",
      "\n",
      "Best regards,\n",
      "\n",
      "Hassan\n",
      "Business Development Officer\n",
      "X Consulting firm\n",
      "X AI\n"
     ]
    }
   ],
   "source": [
    "email_prompt = PromptTemplate.from_template(\n",
    "    \"\"\"\n",
    "    I will give you a role and a task that you have to perform in that specific role.\n",
    "    Your Role: Your name is Hassan, You are an incredible business development officer who knows how to get clients. You work for X Consulting firm, your firm works with all sorts of IT clients and provide solutions in the domain of Data Science and AI. \n",
    "    X AI focuses on efficient tailored solutions for all clients keeping costs down. \n",
    "    Your Job: Your Job is to write cold emails to clients regarding the Job openings that they have advertised. Try to pitch your clients with an email hook that opens a conversation about a possibility of working with them. Add the most relevant portfolio URLs from\n",
    "    the following (shared below) to showcase that we have the right expertise to get the job done. \n",
    "    I will now provide you with the Job description and the portfolio URLs:\n",
    "    JOB DESCRIPTION: {job_description}\n",
    "    ------\n",
    "    PORTFOLIO URLS: {portfolio_urls}\n",
    "    \"\"\"\n",
    ")\n",
    "\n",
    "chain_email = email_prompt | llm\n",
    "response = chain_email.invoke({'job_description':first_job_description, 'portfolio_urls':portfolio_urls})\n",
    "print(response.content)"
   ]
  }
 ],
 "metadata": {
  "kernelspec": {
   "display_name": "venv",
   "language": "python",
   "name": "python3"
  },
  "language_info": {
   "codemirror_mode": {
    "name": "ipython",
    "version": 3
   },
   "file_extension": ".py",
   "mimetype": "text/x-python",
   "name": "python",
   "nbconvert_exporter": "python",
   "pygments_lexer": "ipython3",
   "version": "3.13.2"
  }
 },
 "nbformat": 4,
 "nbformat_minor": 5
}
