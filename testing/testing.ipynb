{
 "cells": [
  {
   "cell_type": "code",
   "execution_count": 5,
   "id": "c8e7d9fe-0c35-4c0b-8155-60053e74d0cd",
   "metadata": {},
   "outputs": [
    {
     "name": "stdout",
     "output_type": "stream",
     "text": [
      "Lionel Messi and Cristiano Ronaldo are often considered the best, but currently, many consider Kylian Mbappé, Erling Haaland, or Lionel Messi as the top player.\n"
     ]
    }
   ],
   "source": [
    "from langchain_groq import ChatGroq\n",
    "llm = ChatGroq(model=\"llama-3.3-70b-versatile\", temperature=0, max_tokens=None, timeout=None, max_retries=2)\n",
    "response = llm.invoke(\"Who is best football player in the world?,no preamble\")\n",
    "print(response.content)"
   ]
  },
  {
   "cell_type": "code",
   "execution_count": 9,
   "id": "e99aebe1",
   "metadata": {},
   "outputs": [],
   "source": [
    "#Setup Chromadb:\n",
    "import chromadb\n",
    "client= chromadb.Client()\n",
    "# Create a collection\n",
    "collection = client.create_collection(name=\"my_collection\")\n"
   ]
  },
  {
   "cell_type": "code",
   "execution_count": 10,
   "id": "2749a921",
   "metadata": {},
   "outputs": [
    {
     "name": "stderr",
     "output_type": "stream",
     "text": [
      "C:\\Users\\Mustafa\\.cache\\chroma\\onnx_models\\all-MiniLM-L6-v2\\onnx.tar.gz: 100%|██████████| 79.3M/79.3M [01:17<00:00, 1.08MiB/s]  \n"
     ]
    }
   ],
   "source": [
    "collection.add(\n",
    "    documents=[\n",
    "        \"I love programming in Python.\",\n",
    "        \"The weather is nice today.\",\n",
    "        \"I enjoy playing football.\",\n",
    "        \"My favorite food is pizza.\",\n",
    "    ],\n",
    "    ids=[\"id1\", \"id2\", \"id3\", \"id4\"],\n",
    "    metadatas=[\n",
    "        {\"url\":\"source_to_id1\"},\n",
    "        {\"url\":\"source_to_id2\"},\n",
    "        {\"url\":\"source_to_id3\"},\n",
    "        {\"url\":\"source_to_id4\"},\n",
    "    ])\n"
   ]
  },
  {
   "cell_type": "code",
   "execution_count": 11,
   "id": "ab42aae8",
   "metadata": {},
   "outputs": [
    {
     "name": "stdout",
     "output_type": "stream",
     "text": [
      "{'ids': ['id1', 'id2', 'id3', 'id4'], 'embeddings': None, 'documents': ['I love programming in Python.', 'The weather is nice today.', 'I enjoy playing football.', 'My favorite food is pizza.'], 'uris': None, 'included': ['metadatas', 'documents'], 'data': None, 'metadatas': [{'url': 'source_to_id1'}, {'url': 'source_to_id2'}, {'url': 'source_to_id3'}, {'url': 'source_to_id4'}]}\n"
     ]
    }
   ],
   "source": [
    "print(collection.get())"
   ]
  },
  {
   "cell_type": "code",
   "execution_count": 14,
   "id": "5671c254",
   "metadata": {},
   "outputs": [
    {
     "data": {
      "text/plain": [
       "{'ids': [['id4']],\n",
       " 'embeddings': None,\n",
       " 'documents': [['My favorite food is pizza.']],\n",
       " 'uris': None,\n",
       " 'included': ['metadatas', 'documents', 'distances'],\n",
       " 'data': None,\n",
       " 'metadatas': [[{'url': 'source_to_id4'}]],\n",
       " 'distances': [[1.2672368288040161]]}"
      ]
     },
     "execution_count": 14,
     "metadata": {},
     "output_type": "execute_result"
    }
   ],
   "source": [
    "collection.query(query_texts=[\"Do you eat healthy?\"],\n",
    "                n_results=1)"
   ]
  }
 ],
 "metadata": {
  "kernelspec": {
   "display_name": "venv",
   "language": "python",
   "name": "python3"
  },
  "language_info": {
   "codemirror_mode": {
    "name": "ipython",
    "version": 3
   },
   "file_extension": ".py",
   "mimetype": "text/x-python",
   "name": "python",
   "nbconvert_exporter": "python",
   "pygments_lexer": "ipython3",
   "version": "3.13.2"
  }
 },
 "nbformat": 4,
 "nbformat_minor": 5
}
